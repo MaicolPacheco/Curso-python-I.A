{
 "cells": [
  {
   "cell_type": "raw",
   "id": "7383d91e",
   "metadata": {},
   "source": [
    "Functions"
   ]
  },
  {
   "cell_type": "code",
   "execution_count": 3,
   "id": "23661a1d",
   "metadata": {},
   "outputs": [
    {
     "name": "stdout",
     "output_type": "stream",
     "text": [
      "Hello\n"
     ]
    }
   ],
   "source": [
    "def greetings():\n",
    "    print ('Hello')\n",
    "\n",
    "greetings()\n"
   ]
  },
  {
   "cell_type": "code",
   "execution_count": 9,
   "id": "0f41b2b7",
   "metadata": {},
   "outputs": [
    {
     "data": {
      "text/plain": [
       "50.2656"
      ]
     },
     "execution_count": 9,
     "metadata": {},
     "output_type": "execute_result"
    }
   ],
   "source": [
    "def square_area(lado):\n",
    "    return lado**2\n",
    "square_area(1)\n",
    "\n",
    "def circle_area(radio):\n",
    "    pi = 3.1416\n",
    "    return pi*radio**2\n",
    "circle_area(4)"
   ]
  },
  {
   "cell_type": "raw",
   "id": "4a6fd729",
   "metadata": {},
   "source": [
    "Lambda Functions"
   ]
  },
  {
   "cell_type": "code",
   "execution_count": 10,
   "id": "8c44f583",
   "metadata": {},
   "outputs": [
    {
     "data": {
      "text/plain": [
       "25"
      ]
     },
     "execution_count": 10,
     "metadata": {},
     "output_type": "execute_result"
    }
   ],
   "source": [
    "def multiply(x):\n",
    "    return x * 5\n",
    "\n",
    "multiply(3)"
   ]
  },
  {
   "cell_type": "code",
   "execution_count": 12,
   "id": "b64d9dbf",
   "metadata": {},
   "outputs": [
    {
     "data": {
      "text/plain": [
       "15"
      ]
     },
     "execution_count": 12,
     "metadata": {},
     "output_type": "execute_result"
    }
   ],
   "source": [
    "multiply_lambda = lambda x: x * 5\n",
    "multiply_lambda(3)\n"
   ]
  },
  {
   "cell_type": "code",
   "execution_count": 15,
   "id": "d2b02153",
   "metadata": {},
   "outputs": [
    {
     "data": {
      "text/plain": [
       "False"
      ]
     },
     "execution_count": 15,
     "metadata": {},
     "output_type": "execute_result"
    }
   ],
   "source": [
    "divisible = lambda x, y: x % y == 0\n",
    "divisible(32, 5)"
   ]
  },
  {
   "cell_type": "code",
   "execution_count": 19,
   "id": "02d4f71c",
   "metadata": {},
   "outputs": [
    {
     "data": {
      "text/plain": [
       "[4, 6, 2]"
      ]
     },
     "execution_count": 19,
     "metadata": {},
     "output_type": "execute_result"
    }
   ],
   "source": [
    "# filter, evaluar toda la lista y mostrar solo los que cumple la cn+ondición\n",
    "\n",
    "numbers = [4,6,9,2]\n",
    "\n",
    "def multiple_dos(x):\n",
    "    return x % 2 == 0\n",
    "\n",
    "list(filter(multiple_dos, numbers))\n",
    "list(filter(lambda x: x % 2 == 0, numbers))\n",
    "\n"
   ]
  },
  {
   "cell_type": "code",
   "execution_count": 25,
   "id": "4f4ebb81",
   "metadata": {},
   "outputs": [
    {
     "data": {
      "text/plain": [
       "[True, True, False, True]"
      ]
     },
     "execution_count": 25,
     "metadata": {},
     "output_type": "execute_result"
    }
   ],
   "source": [
    "#map evalua uno a uno los elementos y retorna un objeto para cada posicion de ellos \n",
    "\n",
    "numbers = [4,6,9,2]\n",
    "\n",
    "def multiple_dos(x):\n",
    "    return x % 2 == 0\n",
    "\n",
    "list(map(multiple_dos,numbers))\n",
    "\n",
    "list(map(lambda x: x % 2 == 0, numbers))\n"
   ]
  },
  {
   "cell_type": "code",
   "execution_count": 28,
   "id": "2cb48c19",
   "metadata": {},
   "outputs": [
    {
     "name": "stdout",
     "output_type": "stream",
     "text": [
      "['Mary', 'Jose']\n",
      "[True, False, False, True]\n"
     ]
    }
   ],
   "source": [
    "things = ['Mary', 'food', 'laptop', 'Jose']\n",
    "\n",
    "# filter\n",
    "\n",
    "names = list(filter(lambda x: x[0].isupper(), things))\n",
    "print(names)\n",
    "\n",
    "# map\n",
    "\n",
    "check_names = list(map(lambda x: x[0].isupper(), things))\n",
    "print(check_names)"
   ]
  },
  {
   "cell_type": "code",
   "execution_count": null,
   "id": "c8172937",
   "metadata": {},
   "outputs": [],
   "source": []
  },
  {
   "cell_type": "markdown",
   "id": "057243b4",
   "metadata": {},
   "source": [
    "# Object-Oriented Programming\n"
   ]
  },
  {
   "cell_type": "markdown",
   "id": "d3bb19ee",
   "metadata": {},
   "source": [
    "Class       Forma de empaquetar atributos y metodos, estudiantes animales\n",
    "\n",
    "Object      Es una instancia Ejemplo una clase animales y un objeto sera perro\n",
    "\n",
    "Attribute   Descropciones de una caracteristica, el color, peso, raza \n",
    "\n",
    "Method      Son acciones que un objeto o clase pueden usar, comer, correr, ladrar"
   ]
  },
  {
   "cell_type": "code",
   "execution_count": 37,
   "id": "7bece926",
   "metadata": {},
   "outputs": [],
   "source": [
    "class Worker:\n",
    "    \n",
    "    def __init__(self, name, age):\n",
    "        self.name = name\n",
    "        self.age = age\n",
    "     #setters\n",
    "    def set_salary(self,salary):\n",
    "        self.salary= salary\n",
    "    \n",
    "    #getters\n",
    "    def get_net_salary(self):\n",
    "        return 0.9 * self.salary\n",
    "\n",
    "        "
   ]
  },
  {
   "cell_type": "code",
   "execution_count": 38,
   "id": "14f23944",
   "metadata": {},
   "outputs": [
    {
     "name": "stdout",
     "output_type": "stream",
     "text": [
      "<__main__.Worker object at 0x00000172218C4670>\n"
     ]
    }
   ],
   "source": [
    "worker_one = Worker('Juan', 40)\n",
    "print(worker_one.name)\n",
    "       "
   ]
  },
  {
   "cell_type": "raw",
   "id": "898d6376",
   "metadata": {},
   "source": [
    "Herencia"
   ]
  },
  {
   "cell_type": "code",
   "execution_count": 47,
   "id": "bc9e64b3",
   "metadata": {},
   "outputs": [],
   "source": [
    "class Doctor(Worker):\n",
    "    \n",
    "    def __init__(self , name,age,especialidad):\n",
    "        Worker.__init__(self,name,age)\n",
    "        self.especialidad = especialidad\n",
    "        \n",
    "    def schedule_operation(self):\n",
    "        if schedule_operation == 'cardiologo':\n",
    "            return '8 am'\n",
    "        elif sef.especialidad == 'neurologo':\n",
    "            return '4 pm'\n",
    "        else:\n",
    "            return '12 pm'\n",
    "        \n",
    "    def get_net_salary(self):\n",
    "        Worker.set_salary(self, 1000)\n",
    "        \n",
    "        if schedule_operation == 'cardiologo':\n",
    "            return self.salary * 1.5\n",
    "        elif sef.especialidad == 'neurologo':\n",
    "            return self.salary * 2\n",
    "        else:\n",
    "            return self.salary\n",
    "        \n"
   ]
  },
  {
   "cell_type": "code",
   "execution_count": 46,
   "id": "3d23d47d",
   "metadata": {},
   "outputs": [
    {
     "name": "stdout",
     "output_type": "stream",
     "text": [
      "45\n"
     ]
    }
   ],
   "source": [
    "doctor = Doctor('Luis', 45, 'cardiologo')\n",
    "print(doctor.age)"
   ]
  },
  {
   "cell_type": "raw",
   "id": "39a8cbea",
   "metadata": {},
   "source": [
    "# Acceder, insertar y eliminar elementos"
   ]
  },
  {
   "cell_type": "code",
   "execution_count": 50,
   "id": "58dcaf73",
   "metadata": {},
   "outputs": [
    {
     "name": "stdout",
     "output_type": "stream",
     "text": [
      "1\n",
      "4\n",
      "4\n",
      "3\n"
     ]
    }
   ],
   "source": [
    "import numpy as np\n",
    "\n",
    "#acceder\n",
    "\n",
    "x = np.array([1,2,3,4])\n",
    "print(x[0])\n",
    "print(x[3])\n",
    "\n",
    "print(x[-1])\n",
    "print(x[-2])"
   ]
  },
  {
   "cell_type": "code",
   "execution_count": 51,
   "id": "aedaf1bc",
   "metadata": {},
   "outputs": [
    {
     "name": "stdout",
     "output_type": "stream",
     "text": [
      "[30  2  3  4]\n"
     ]
    }
   ],
   "source": [
    "x[0] = 30\n",
    "x[-1] = 60\n",
    "\n",
    "print(x)"
   ]
  },
  {
   "cell_type": "code",
   "execution_count": 55,
   "id": "d4165f36",
   "metadata": {},
   "outputs": [
    {
     "name": "stdout",
     "output_type": "stream",
     "text": [
      "2\n",
      "[[ 1 20  3]\n",
      " [ 4  5  6]]\n"
     ]
    }
   ],
   "source": [
    "x = np.array([[1,2,3,], [4,5,6]])\n",
    "print(x[0,1])\n",
    "x[0,1]  = 20\n",
    "\n",
    "print(x)"
   ]
  },
  {
   "cell_type": "code",
   "execution_count": 59,
   "id": "dcbe5cc0",
   "metadata": {},
   "outputs": [
    {
     "name": "stdout",
     "output_type": "stream",
     "text": [
      "[2 3]\n"
     ]
    }
   ],
   "source": [
    "#delete\n",
    "\n",
    "x = np.array([1,2,3,4])\n",
    "x = np.delete(x,[0,3])\n",
    "\n",
    "print(x)"
   ]
  },
  {
   "cell_type": "code",
   "execution_count": 63,
   "id": "3a5c65f1",
   "metadata": {},
   "outputs": [
    {
     "name": "stdout",
     "output_type": "stream",
     "text": [
      "[[1 2 3]\n",
      " [4 5 6]]\n",
      "[[2 3]\n",
      " [5 6]]\n"
     ]
    }
   ],
   "source": [
    "x = np.array([[1,2,3,], [4,5,6]])\n",
    "\n",
    "print(x)\n",
    "\n",
    "x = np.delete(x, 0, axis = 1)\n",
    "print(x)"
   ]
  },
  {
   "cell_type": "code",
   "execution_count": 65,
   "id": "fa97a368",
   "metadata": {},
   "outputs": [
    {
     "name": "stdout",
     "output_type": "stream",
     "text": [
      "[1 2 3 4]\n",
      "[1 2 3 4 5 6 7]\n"
     ]
    }
   ],
   "source": [
    "# append\n",
    "\n",
    "x = np.array([1,2,3,4])\n",
    "print(x)\n",
    "x = np.append(x,5)\n",
    "x = np.append(x,[6,7])\n",
    "print(x)"
   ]
  },
  {
   "cell_type": "code",
   "execution_count": 66,
   "id": "03a9b250",
   "metadata": {},
   "outputs": [
    {
     "name": "stdout",
     "output_type": "stream",
     "text": [
      "[ 1  2  3  4  5  6  7  8  9 10 11 12]\n"
     ]
    }
   ],
   "source": [
    "x = np.array([[1,2,3,], [4,5,6]])\n",
    "x = np.append(x,[[7,8,9],[10,11,12]])\n",
    "print(x)"
   ]
  },
  {
   "cell_type": "code",
   "execution_count": 68,
   "id": "6bd528dc",
   "metadata": {},
   "outputs": [
    {
     "name": "stdout",
     "output_type": "stream",
     "text": [
      "[1 2 3 4]\n",
      "[1 2 5 3 4]\n"
     ]
    }
   ],
   "source": [
    "# insert\n",
    "x = np.array([1, 2, 3, 4])\n",
    "print(x)\n",
    "x = np.insert(x,2,5)\n",
    "print(x)"
   ]
  },
  {
   "cell_type": "code",
   "execution_count": 69,
   "id": "9642c6e9",
   "metadata": {},
   "outputs": [
    {
     "name": "stdout",
     "output_type": "stream",
     "text": [
      "[[1 2 3]\n",
      " [4 5 6]]\n",
      "[[ 1 99  2  3]\n",
      " [ 4 99  5  6]]\n"
     ]
    }
   ],
   "source": [
    "x = np.array([[1,2,3,], [4,5,6]])\n",
    "print (x)\n",
    "\n",
    "x= np.insert(x, 1, 99, axis = 1)\n",
    "print(x)\n",
    "\n"
   ]
  },
  {
   "cell_type": "code",
   "execution_count": 72,
   "id": "331f7972",
   "metadata": {},
   "outputs": [
    {
     "name": "stdout",
     "output_type": "stream",
     "text": [
      "[1 2]\n",
      "[[3 4]\n",
      " [5 6]]\n",
      "[[1 2]\n",
      " [3 4]\n",
      " [5 6]]\n"
     ]
    }
   ],
   "source": [
    "# vstack\n",
    "x = np.array([1, 2,])\n",
    "print(x)\n",
    "y = np.array([[3,4], [5,6]])\n",
    "print(y)\n",
    "\n",
    "z = np.vstack((x,y))\n",
    "print(z)"
   ]
  },
  {
   "cell_type": "code",
   "execution_count": null,
   "id": "bc505d11",
   "metadata": {},
   "outputs": [],
   "source": []
  },
  {
   "cell_type": "code",
   "execution_count": null,
   "id": "80aaf3c1",
   "metadata": {},
   "outputs": [],
   "source": []
  },
  {
   "cell_type": "code",
   "execution_count": null,
   "id": "05114798",
   "metadata": {},
   "outputs": [],
   "source": []
  },
  {
   "cell_type": "code",
   "execution_count": null,
   "id": "f882a32e",
   "metadata": {},
   "outputs": [],
   "source": []
  },
  {
   "cell_type": "code",
   "execution_count": null,
   "id": "ce57dc7a",
   "metadata": {},
   "outputs": [],
   "source": []
  }
 ],
 "metadata": {
  "kernelspec": {
   "display_name": "Python 3 (ipykernel)",
   "language": "python",
   "name": "python3"
  },
  "language_info": {
   "codemirror_mode": {
    "name": "ipython",
    "version": 3
   },
   "file_extension": ".py",
   "mimetype": "text/x-python",
   "name": "python",
   "nbconvert_exporter": "python",
   "pygments_lexer": "ipython3",
   "version": "3.10.9"
  }
 },
 "nbformat": 4,
 "nbformat_minor": 5
}
