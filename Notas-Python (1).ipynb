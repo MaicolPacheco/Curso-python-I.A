{
 "cells": [
  {
   "cell_type": "markdown",
   "id": "bceb9d8f",
   "metadata": {},
   "source": [
    "# Notas Python"
   ]
  },
  {
   "cell_type": "markdown",
   "id": "ae0d15b5",
   "metadata": {},
   "source": [
    "## Methods "
   ]
  },
  {
   "cell_type": "markdown",
   "id": "0f5e92e1",
   "metadata": {},
   "source": [
    "Enlace https://www.programiz.com/python-programming/methods/string/split"
   ]
  },
  {
   "cell_type": "markdown",
   "id": "588676c5",
   "metadata": {},
   "source": [
    "**Lower**, imprime minisculas"
   ]
  },
  {
   "cell_type": "code",
   "execution_count": 3,
   "id": "726d9859",
   "metadata": {},
   "outputs": [
    {
     "name": "stdout",
     "output_type": "stream",
     "text": [
      "hello word\n",
      "False\n"
     ]
    }
   ],
   "source": [
    "msm = 'Hello Word'\n",
    "print(msm.lower())\n",
    "print(msm.islower())"
   ]
  },
  {
   "cell_type": "markdown",
   "id": "2bfa23c3",
   "metadata": {},
   "source": [
    "**Count**, devuelve el numero de apariciones de una subcadena"
   ]
  },
  {
   "cell_type": "code",
   "execution_count": 12,
   "id": "7c8ad255",
   "metadata": {},
   "outputs": [
    {
     "name": "stdout",
     "output_type": "stream",
     "text": [
      "1\n",
      "1\n"
     ]
    }
   ],
   "source": [
    "print(msm.count('e'))\n",
    "print(msm.find('e'))"
   ]
  },
  {
   "cell_type": "markdown",
   "id": "f7806e6a",
   "metadata": {},
   "source": [
    "**Format**"
   ]
  },
  {
   "cell_type": "code",
   "execution_count": 13,
   "id": "2dd8b17d",
   "metadata": {},
   "outputs": [
    {
     "name": "stdout",
     "output_type": "stream",
     "text": [
      "alo Juan, muito prazer\n"
     ]
    }
   ],
   "source": [
    "print('alo {}, muito prazer'.format('Juan'))"
   ]
  },
  {
   "cell_type": "markdown",
   "id": "c9037982",
   "metadata": {},
   "source": [
    " **split** divide una cadena en el separador especificado y devuelve una lista de subcadenas"
   ]
  },
  {
   "cell_type": "code",
   "execution_count": 15,
   "id": "d62c3ca9",
   "metadata": {},
   "outputs": [
    {
     "name": "stdout",
     "output_type": "stream",
     "text": [
      "['eu', 'todo', 'bem']\n"
     ]
    }
   ],
   "source": [
    "new_msm = 'eu todo bem'\n",
    "print(new_msm.split())"
   ]
  },
  {
   "cell_type": "markdown",
   "id": "f4615961",
   "metadata": {},
   "source": [
    "## Listas"
   ]
  },
  {
   "cell_type": "code",
   "execution_count": 22,
   "id": "0e5611d9",
   "metadata": {},
   "outputs": [
    {
     "name": "stdout",
     "output_type": "stream",
     "text": [
      "[16, 0.6, 'string', True]\n",
      "\n",
      "\n",
      "0.6\n",
      "\n",
      "\n",
      "True\n"
     ]
    }
   ],
   "source": [
    "list_on = [16,0.6,'string',True]\n",
    "print(list_on)\n",
    "print('\\n')\n",
    "print(list_on[1])\n",
    "print('\\n')\n",
    "print(list_on[3])"
   ]
  },
  {
   "cell_type": "markdown",
   "id": "bfc9c44d",
   "metadata": {},
   "source": [
    "**Not in, in**"
   ]
  },
  {
   "cell_type": "code",
   "execution_count": 25,
   "id": "eb0ccc31",
   "metadata": {},
   "outputs": [
    {
     "name": "stdout",
     "output_type": "stream",
     "text": [
      "False\n"
     ]
    }
   ],
   "source": [
    "list_number = [1,2,6,4,5]\n",
    "print(8 in list_number)"
   ]
  },
  {
   "cell_type": "markdown",
   "id": "f51434f6",
   "metadata": {},
   "source": [
    "**Len**"
   ]
  },
  {
   "cell_type": "code",
   "execution_count": 28,
   "id": "5ed3b65c",
   "metadata": {},
   "outputs": [
    {
     "name": "stdout",
     "output_type": "stream",
     "text": [
      "6\n",
      "4\n"
     ]
    }
   ],
   "source": [
    "numbers = [1,1,3,6,4,80]\n",
    "letters= ['a','s','d','f']\n",
    "\n",
    "print(len(numbers))\n",
    "print(len(letters))"
   ]
  },
  {
   "cell_type": "markdown",
   "id": "39fec35d",
   "metadata": {},
   "source": [
    "**max & min**"
   ]
  },
  {
   "cell_type": "code",
   "execution_count": 29,
   "id": "30b67d70",
   "metadata": {},
   "outputs": [
    {
     "name": "stdout",
     "output_type": "stream",
     "text": [
      "80\n",
      "a\n"
     ]
    }
   ],
   "source": [
    "print(max(numbers))\n",
    "print(min(letters))"
   ]
  },
  {
   "cell_type": "markdown",
   "id": "e4a2a90b",
   "metadata": {},
   "source": [
    "**sorted** organiza"
   ]
  },
  {
   "cell_type": "code",
   "execution_count": 32,
   "id": "b5af7ed6",
   "metadata": {},
   "outputs": [
    {
     "name": "stdout",
     "output_type": "stream",
     "text": [
      "[1, 1, 3, 4, 6, 80]\n",
      "['a', 'd', 'f', 's']\n"
     ]
    }
   ],
   "source": [
    "print(sorted(numbers))\n",
    "print(sorted(letters))"
   ]
  },
  {
   "cell_type": "markdown",
   "id": "9caad711",
   "metadata": {},
   "source": [
    "**append** agrega valor al final de la lista"
   ]
  },
  {
   "cell_type": "code",
   "execution_count": 40,
   "id": "bdc48789",
   "metadata": {},
   "outputs": [
    {
     "name": "stdout",
     "output_type": "stream",
     "text": [
      "['blue', 'green', 'black', 'orange']\n",
      "['blue', 'green', 'black', 'orange', 'red']\n",
      "['blue', 'green', 'black', 'orange', 'red', 4]\n"
     ]
    }
   ],
   "source": [
    "colors = ['blue','green','black','orange']\n",
    "print(colors)\n",
    "colors.append('red')\n",
    "print(colors)\n",
    "colors.append(4)\n",
    "print(colors)"
   ]
  },
  {
   "cell_type": "markdown",
   "id": "03bdf6ac",
   "metadata": {},
   "source": [
    "**extend** agrega mas de un elemento"
   ]
  },
  {
   "cell_type": "code",
   "execution_count": 46,
   "id": "3ccc3ba1",
   "metadata": {},
   "outputs": [
    {
     "name": "stdout",
     "output_type": "stream",
     "text": [
      "['green', 'black', 'orange', 'red', 4, 'gold', 'car', 4]\n"
     ]
    }
   ],
   "source": [
    "colors.extend(['gold','car',4])\n",
    "print(colors)"
   ]
  },
  {
   "cell_type": "markdown",
   "id": "03ca7608",
   "metadata": {},
   "source": [
    "**remove** eliminar elemento"
   ]
  },
  {
   "cell_type": "code",
   "execution_count": 55,
   "id": "f98076fa",
   "metadata": {},
   "outputs": [
    {
     "name": "stdout",
     "output_type": "stream",
     "text": [
      "['green', 'orange', 'red', 'gold', 'car']\n"
     ]
    }
   ],
   "source": [
    "colors.remove('black')\n",
    "print(colors)"
   ]
  },
  {
   "cell_type": "markdown",
   "id": "6c932e20",
   "metadata": {},
   "source": [
    "**pop** elimina el elemento en la posición especificada"
   ]
  },
  {
   "cell_type": "code",
   "execution_count": 57,
   "id": "a949327b",
   "metadata": {},
   "outputs": [
    {
     "name": "stdout",
     "output_type": "stream",
     "text": [
      "['orange', 'gold', 'car']\n"
     ]
    }
   ],
   "source": [
    "colors.pop(1)\n",
    "print(colors)"
   ]
  },
  {
   "cell_type": "markdown",
   "id": "951d97c6",
   "metadata": {},
   "source": [
    "## Tuplas"
   ]
  },
  {
   "cell_type": "markdown",
   "id": "3910d56d",
   "metadata": {},
   "source": [
    "Las tuplas se utilizan para almacenar varios elementos en una sola variable.\n",
    "\n",
    "Tuple es uno de los 4 tipos de datos integrados en Python que se utilizan para almacenar colecciones de datos; los otros 3 son List , Set y Dictionary , todos con diferentes calidades y usos.\n",
    "\n",
    "Una tupla es una colección ordenada e inmutable .\n",
    "\n",
    "Las tuplas se escriben entre paréntesis. \n",
    "https://www.w3schools.com/python/python_tuples.asp"
   ]
  },
  {
   "cell_type": "code",
   "execution_count": 66,
   "id": "f2accda8",
   "metadata": {},
   "outputs": [
    {
     "name": "stdout",
     "output_type": "stream",
     "text": [
      "(40.5, 32)\n",
      "40.5\n",
      "dimensions lenght: 30 widht: 50 height: 10\n"
     ]
    }
   ],
   "source": [
    "location_home = (40.5,32)\n",
    "print(location_home)\n",
    "print(location_home[0])\n",
    "\n",
    "dimensions = (30,50,10)\n",
    "lenght,widht,height = dimensions\n",
    "print('dimensions lenght: {} widht: {} height: {}'.format(lenght, widht, height ))"
   ]
  },
  {
   "cell_type": "markdown",
   "id": "6aee42ef",
   "metadata": {},
   "source": [
    "## Sets"
   ]
  },
  {
   "cell_type": "markdown",
   "id": "0d611b76",
   "metadata": {},
   "source": [
    "Es una colección desordenada, inmutable* y no indexada. No hay miembros duplicados.\n",
    "\n",
    "Los conjuntos se utilizan para almacenar varios elementos en una sola variable.\n",
    "\n",
    "Set es uno de los 4 tipos de datos integrados en Python que se utilizan para almacenar colecciones de datos; los otros 3 son List , Tuple y Dictionary , todos con diferentes calidades y usos.\n",
    "\n",
    "Un conjunto es una colección desordenada , inmutable * y no indexada . https://www.w3schools.com/python/python_sets.asp"
   ]
  },
  {
   "cell_type": "code",
   "execution_count": 68,
   "id": "b3610ecb",
   "metadata": {},
   "outputs": [
    {
     "name": "stdout",
     "output_type": "stream",
     "text": [
      "[4, 5, 5, 6, 7, 8, 9, 0]\n",
      "{0, 4, 5, 6, 7, 8, 9}\n"
     ]
    }
   ],
   "source": [
    "numbers = [4,5,5,6,7,8,9,0]\n",
    "print(numbers)\n",
    "unique_numbers=set(numbers)\n",
    "print(unique_numbers)"
   ]
  },
  {
   "cell_type": "code",
   "execution_count": 10,
   "id": "3e1bf88c",
   "metadata": {},
   "outputs": [
    {
     "name": "stdout",
     "output_type": "stream",
     "text": [
      "{'banana', 'pera', 'fresa'}\n",
      "False\n",
      "{'manzana', 'banana', 'pera', 'fresa'}\n",
      "{'banana', 'pera', 'fresa'}\n"
     ]
    }
   ],
   "source": [
    "fruits = {'pera','banana','fresa'}\n",
    "print(fruits)\n",
    "print('mango' in fruits)\n",
    "\n",
    "fruits.add('manzana')\n",
    "print(fruits)\n",
    "\n",
    "fruits.pop()\n",
    "print(fruits)"
   ]
  },
  {
   "cell_type": "markdown",
   "id": "cef5bd59",
   "metadata": {},
   "source": [
    "# Dictionaries"
   ]
  },
  {
   "cell_type": "markdown",
   "id": "89382a28",
   "metadata": {},
   "source": [
    "Los diccionarios se utilizan para almacenar valores de datos en pares clave:valor.\n",
    "\n",
    "Un diccionario es una colección ordenada*, modificable y que no permite duplicados. https://www.w3schools.com/python/python_dictionaries.asp"
   ]
  },
  {
   "cell_type": "code",
   "execution_count": 20,
   "id": "4bc76cf8",
   "metadata": {},
   "outputs": [
    {
     "name": "stdout",
     "output_type": "stream",
     "text": [
      "{'name': 'mark', 'lastname': 'perez', 'age': 50}\n"
     ]
    }
   ],
   "source": [
    "elements = {'name': 'mark', 'lastname':'perez', 'age': 50}\n",
    "print(elements)"
   ]
  },
  {
   "cell_type": "code",
   "execution_count": 21,
   "id": "621ac489",
   "metadata": {},
   "outputs": [
    {
     "name": "stdout",
     "output_type": "stream",
     "text": [
      "50\n"
     ]
    }
   ],
   "source": [
    "#El get()método devuelve el valor del elemento con la clave especificada.\n",
    "\n",
    "print(elements.get('age','no found'))"
   ]
  },
  {
   "cell_type": "code",
   "execution_count": null,
   "id": "5cc1a785",
   "metadata": {},
   "outputs": [],
   "source": []
  }
 ],
 "metadata": {
  "kernelspec": {
   "display_name": "Python 3 (ipykernel)",
   "language": "python",
   "name": "python3"
  },
  "language_info": {
   "codemirror_mode": {
    "name": "ipython",
    "version": 3
   },
   "file_extension": ".py",
   "mimetype": "text/x-python",
   "name": "python",
   "nbconvert_exporter": "python",
   "pygments_lexer": "ipython3",
   "version": "3.10.9"
  }
 },
 "nbformat": 4,
 "nbformat_minor": 5
}
