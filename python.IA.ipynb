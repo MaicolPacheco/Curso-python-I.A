{
 "cells": [
  {
   "cell_type": "code",
   "execution_count": 2,
   "id": "62aef0d9",
   "metadata": {},
   "outputs": [
    {
     "name": "stdout",
     "output_type": "stream",
     "text": [
      "hello there\n",
      "True\n"
     ]
    }
   ],
   "source": [
    "#lower\n",
    "word='hello there'\n",
    "print(word.lower())\n",
    "print(word.islower())"
   ]
  },
  {
   "cell_type": "code",
   "execution_count": 7,
   "id": "3ea88929",
   "metadata": {},
   "outputs": [
    {
     "name": "stdout",
     "output_type": "stream",
     "text": [
      "3\n",
      "0\n"
     ]
    }
   ],
   "source": [
    "#count\n",
    "print(word.count('e'))\n",
    "print(word.find('H'))"
   ]
  },
  {
   "cell_type": "code",
   "execution_count": 8,
   "id": "0e88c173",
   "metadata": {},
   "outputs": [
    {
     "name": "stdout",
     "output_type": "stream",
     "text": [
      "welcome paul to the AI course\n"
     ]
    }
   ],
   "source": [
    "#format\n",
    "print('welcome {} to the AI course'.format('paul'))"
   ]
  },
  {
   "cell_type": "code",
   "execution_count": 9,
   "id": "c20ea0d1",
   "metadata": {},
   "outputs": [
    {
     "name": "stdout",
     "output_type": "stream",
     "text": [
      "['I', 'like', 'extreme', 'sports']\n"
     ]
    }
   ],
   "source": [
    "#split\n",
    "new_word='I like extreme sports'\n",
    "print(new_word.split())"
   ]
  },
  {
   "cell_type": "markdown",
   "id": "6a148d53",
   "metadata": {},
   "source": [
    "# Lista\n",
    "\n",
    "list_"
   ]
  },
  {
   "cell_type": "code",
   "execution_count": 13,
   "id": "2ca6d085",
   "metadata": {},
   "outputs": [
    {
     "name": "stdout",
     "output_type": "stream",
     "text": [
      "[60, 7.8, 'String', True]\n",
      "7.8\n",
      "60\n"
     ]
    }
   ],
   "source": [
    "list_things = [60,7.8,'String',True]\n",
    "print(list_things)\n",
    "print(list_things[1])\n",
    "print(list_things[0])\n",
    "\n",
    "#Slicing\n",
    "\n",
    "print(list_things[0:2])"
   ]
  },
  {
   "cell_type": "code",
   "execution_count": 15,
   "id": "fb1175a8",
   "metadata": {},
   "outputs": [
    {
     "name": "stdout",
     "output_type": "stream",
     "text": [
      "True\n"
     ]
    }
   ],
   "source": [
    "#not in, in \n",
    "list_numbers=[1,2,3,4,5]\n",
    "print(2 in list_numbers)"
   ]
  },
  {
   "cell_type": "code",
   "execution_count": 18,
   "id": "cdedee48",
   "metadata": {},
   "outputs": [
    {
     "name": "stdout",
     "output_type": "stream",
     "text": [
      "['tres', 4, 5, 6]\n"
     ]
    }
   ],
   "source": [
    "#Mutablility\n",
    "\n",
    "numbers=[3,4,5,6]\n",
    "numbers[0]='tres'\n",
    "print(numbers)"
   ]
  },
  {
   "cell_type": "code",
   "execution_count": 19,
   "id": "06a3a6a5",
   "metadata": {},
   "outputs": [
    {
     "name": "stdout",
     "output_type": "stream",
     "text": [
      "tres\n",
      "e\n"
     ]
    }
   ],
   "source": [
    "# order\n",
    "\n",
    "print(numbers[0])\n",
    "print(word[1])"
   ]
  },
  {
   "cell_type": "code",
   "execution_count": 21,
   "id": "3293b6d2",
   "metadata": {},
   "outputs": [
    {
     "name": "stdout",
     "output_type": "stream",
     "text": [
      "5\n",
      "4\n"
     ]
    }
   ],
   "source": [
    "#Len\n",
    "\n",
    "numbers=[40,50,2,34,5]\n",
    "letters=['b', 'y','u','i']\n",
    "print(len(numbers))\n",
    "print(len(letters))\n"
   ]
  },
  {
   "cell_type": "code",
   "execution_count": 23,
   "id": "13d9fb9c",
   "metadata": {},
   "outputs": [
    {
     "name": "stdout",
     "output_type": "stream",
     "text": [
      "50\n",
      "y\n"
     ]
    }
   ],
   "source": [
    "# max\n",
    "\n",
    "print(max(numbers))\n",
    "print(max(letters))\n",
    "\n"
   ]
  },
  {
   "cell_type": "code",
   "execution_count": 24,
   "id": "eb88964b",
   "metadata": {},
   "outputs": [
    {
     "name": "stdout",
     "output_type": "stream",
     "text": [
      "2\n",
      "b\n"
     ]
    }
   ],
   "source": [
    "# min\n",
    "\n",
    "print(min(numbers))\n",
    "print(min(letters))\n"
   ]
  },
  {
   "cell_type": "code",
   "execution_count": 25,
   "id": "3b7818f9",
   "metadata": {},
   "outputs": [
    {
     "name": "stdout",
     "output_type": "stream",
     "text": [
      "[2, 5, 34, 40, 50]\n",
      "['b', 'i', 'u', 'y']\n"
     ]
    }
   ],
   "source": [
    "#sorted\n",
    "\n",
    "print(sorted(numbers))\n",
    "print(sorted(letters))\n"
   ]
  },
  {
   "cell_type": "code",
   "execution_count": 30,
   "id": "ce1363b2",
   "metadata": {},
   "outputs": [
    {
     "name": "stdout",
     "output_type": "stream",
     "text": [
      "Steven & Pal & Jhon\n"
     ]
    }
   ],
   "source": [
    "#join\n",
    "\n",
    "print(' & '.join(['Steven', 'Pal','Jhon']))"
   ]
  },
  {
   "cell_type": "code",
   "execution_count": 38,
   "id": "51cd8cc0",
   "metadata": {},
   "outputs": [
    {
     "name": "stdout",
     "output_type": "stream",
     "text": [
      "['a', 'b', 'g', 'f', 'm', 4]\n",
      "['a', 'b', 'g', 'f', 'm', 4, 'n', 'h']\n",
      "['b', 'g', 'f', 'm', 4, 'n', 'h']\n",
      "['g', 'f', 'm', 4, 'n', 'h']\n"
     ]
    }
   ],
   "source": [
    "#append agrega valor al final de la lista\n",
    "\n",
    "letteres = ['a','b','g','f']\n",
    "letteres.append('m')\n",
    "letteres.append(4)\n",
    "print(letteres)\n",
    "\n",
    "#extend agrega mas de un elemento\n",
    "letteres.extend(['n','h'])\n",
    "print(letteres)\n",
    "\n",
    "#remove eliminar elemento\n",
    "\n",
    "letteres.remove('a')\n",
    "print(letteres)\n",
    "\n",
    "#pop\n",
    "\n",
    "letteres.pop(0)\n",
    "print(letteres)"
   ]
  },
  {
   "cell_type": "markdown",
   "id": "2f685a4b",
   "metadata": {},
   "source": [
    "# Tuplas\n",
    "\n",
    "\n",
    "\n",
    "\n"
   ]
  },
  {
   "cell_type": "code",
   "execution_count": 3,
   "id": "266c553a",
   "metadata": {},
   "outputs": [
    {
     "name": "stdout",
     "output_type": "stream",
     "text": [
      "3.4\n",
      "dimensiones lenght: 45 width: 67 height: 90\n"
     ]
    }
   ],
   "source": [
    "location_home=(3.4,5.6)\n",
    "print(location_home[0])\n",
    "\n",
    "dimensions=(45,67,90)\n",
    "length,width,height=dimensions\n",
    "print('dimensiones lenght: {} width: {} height: {}'.format(length,width,height))"
   ]
  },
  {
   "cell_type": "markdown",
   "id": "6d9be1ad",
   "metadata": {},
   "source": [
    "# Sets\n"
   ]
  },
  {
   "cell_type": "code",
   "execution_count": 8,
   "id": "3111d1ae",
   "metadata": {},
   "outputs": [
    {
     "name": "stdout",
     "output_type": "stream",
     "text": [
      "{4, 6, 8, 9, 10}\n",
      "False\n",
      "{'mango', 'banana', 'orange', 'apple'}\n",
      "{'banana', 'orange', 'apple'}\n"
     ]
    }
   ],
   "source": [
    "numbers = [4,6,8,9,10,10]\n",
    "unique_numbers = set(numbers)\n",
    "print(unique_numbers)\n",
    "\n",
    "fruits = {'banana','apple', 'orange'}\n",
    "print('mango' in fruits)\n",
    "\n",
    "fruits.add('mango')\n",
    "print(fruits)\n",
    "\n",
    "fruits.pop()\n",
    "print(fruits)"
   ]
  },
  {
   "cell_type": "markdown",
   "id": "d45b6576",
   "metadata": {},
   "source": [
    "# Dictionaries"
   ]
  },
  {
   "cell_type": "code",
   "execution_count": 1,
   "id": "f80d9f0f",
   "metadata": {},
   "outputs": [
    {
     "name": "stdout",
     "output_type": "stream",
     "text": [
      "mark\n",
      "40\n",
      "Jhom\n"
     ]
    }
   ],
   "source": [
    "elements = {'name':'mark','lasname': 'Harris', 'age':40}\n",
    "print(elements['name'])\n",
    "\n",
    "\n",
    "#get\n",
    "print(elements.get('age','Not found'))\n",
    "\n",
    "\n",
    "dic_students = {10:'Stevem', 2:'Jhom', 3:'paul'}\n",
    "print(dic_students.get(2))\n",
    "\n",
    "\n"
   ]
  },
  {
   "cell_type": "code",
   "execution_count": 22,
   "id": "de43c50f",
   "metadata": {},
   "outputs": [
    {
     "name": "stdout",
     "output_type": "stream",
     "text": [
      "{1: 'juan', 2: 'julian'}\n",
      "{1: 'juan', 2: 'julian', 3: 'mario'}\n",
      "{2: 'julian', 3: 'mario'}\n",
      "False\n"
     ]
    }
   ],
   "source": [
    "dic_workers = {1:'juan', 2:'julian'}\n",
    "print(dic_workers)\n",
    "\n",
    "dic_workers[3] = 'mario'\n",
    "print(dic_workers)\n",
    "\n",
    "#pop\n",
    "\n",
    "dic_workers.pop(1)\n",
    "print(dic_workers)\n",
    "\n",
    "\n",
    "#not in, in\n",
    "\n",
    "\n",
    "print('juan' in dic_workers.values())\n"
   ]
  },
  {
   "cell_type": "markdown",
   "id": "bb04de85",
   "metadata": {},
   "source": [
    "\n",
    "\n",
    "# Control Flow"
   ]
  },
  {
   "cell_type": "code",
   "execution_count": 7,
   "id": "1c046c0e",
   "metadata": {},
   "outputs": [
    {
     "name": "stdout",
     "output_type": "stream",
     "text": [
      "12 es mayor a 10\n",
      "stay home\n"
     ]
    }
   ],
   "source": [
    "# if\n",
    "\n",
    "x ,y = 12, 10\n",
    "if x >y:\n",
    "    print('{} es mayor a {}'.format(x,y))\n",
    "\n",
    "season = 'winter'\n",
    "list_friends = []\n",
    "if season == 'summer':\n",
    "    print('go to the beach')\n",
    "    list_friends = ['Carmen', 'jose']\n",
    "else:\n",
    "    print('stay home')\n",
    "    \n",
    "#print(list_friends)"
   ]
  },
  {
   "cell_type": "code",
   "execution_count": 10,
   "id": "34e3c8f7",
   "metadata": {},
   "outputs": [
    {
     "name": "stdout",
     "output_type": "stream",
     "text": [
      "presupuesto total 100\n"
     ]
    }
   ],
   "source": [
    "budget = 500\n",
    "holidays = 'new york'\n",
    "\n",
    "if holidays == 'new york':\n",
    "    budget = 100\n",
    "elif holidays == 'india':\n",
    "    budget = 2000\n",
    "elif holidays == 'brazil':\n",
    "    budget = 1500\n",
    "else:\n",
    "    budget = 50\n",
    "    \n",
    "print('presupuesto total {}'.format(budget))"
   ]
  },
  {
   "cell_type": "raw",
   "id": "5dd1777b",
   "metadata": {},
   "source": [
    " For in list"
   ]
  },
  {
   "cell_type": "code",
   "execution_count": 13,
   "id": "26f392bc",
   "metadata": {},
   "outputs": [
    {
     "name": "stdout",
     "output_type": "stream",
     "text": [
      "1\n",
      "2\n",
      "3\n",
      "4\n",
      "1\n",
      "3\n"
     ]
    }
   ],
   "source": [
    "numbers = [1,2,3,4]\n",
    "\n",
    "for number in numbers:\n",
    "    print(number)\n",
    "    \n",
    "#range(0, 5, 1)\n",
    "\n",
    "for number in range(1,4,2):\n",
    "    print(number)"
   ]
  },
  {
   "cell_type": "code",
   "execution_count": 15,
   "id": "c02cc6cc",
   "metadata": {},
   "outputs": [
    {
     "name": "stdout",
     "output_type": "stream",
     "text": [
      "['WHITE', 'BLACK', 'RED']\n"
     ]
    }
   ],
   "source": [
    "colors =['White','Black','Red']\n",
    "lower_colors = []\n",
    "for color in colors:\n",
    "    lower_colors.append(color.upper())\n",
    "print(lower_colors)"
   ]
  },
  {
   "cell_type": "markdown",
   "id": "c52d2e7a",
   "metadata": {},
   "source": [
    "For in Dictionary"
   ]
  },
  {
   "cell_type": "code",
   "execution_count": 19,
   "id": "d53a8058",
   "metadata": {},
   "outputs": [
    {
     "name": "stdout",
     "output_type": "stream",
     "text": [
      "30\n",
      "45\n",
      "mary 30\n",
      "pablo 45\n"
     ]
    }
   ],
   "source": [
    "students = {'mary':30, 'pablo':45}\n",
    "for student in students.values():\n",
    "    print(student)\n",
    "for name, age in students.items():\n",
    "    print(name, age)    "
   ]
  },
  {
   "cell_type": "code",
   "execution_count": 20,
   "id": "77b58901",
   "metadata": {},
   "outputs": [
    {
     "name": "stdout",
     "output_type": "stream",
     "text": [
      "14\n"
     ]
    }
   ],
   "source": [
    "fruits = {'orange':4, 'apple':10}\n",
    "count =0\n",
    "for element in fruits.values():\n",
    "    count += element\n",
    "print(count)"
   ]
  },
  {
   "cell_type": "markdown",
   "id": "f113fefe",
   "metadata": {},
   "source": [
    "While\n",
    "\n"
   ]
  },
  {
   "cell_type": "code",
   "execution_count": 22,
   "id": "b645ab94",
   "metadata": {},
   "outputs": [
    {
     "name": "stdout",
     "output_type": "stream",
     "text": [
      "count 0\n",
      "count 1\n",
      "count 2\n",
      "count 3\n",
      "count 4\n"
     ]
    }
   ],
   "source": [
    "count = 0\n",
    "while count < 5:\n",
    "    print('count {}'. format(count))\n",
    "    count += 1"
   ]
  },
  {
   "cell_type": "code",
   "execution_count": 24,
   "id": "315681b4",
   "metadata": {},
   "outputs": [
    {
     "name": "stdout",
     "output_type": "stream",
     "text": [
      "[13, 8]\n"
     ]
    }
   ],
   "source": [
    "cards = [4,2,8,13]\n",
    "my_cards = []\n",
    "\n",
    "while sum(my_cards) < 21:\n",
    "    my_cards.append(cards.pop())\n",
    "print(my_cards)"
   ]
  },
  {
   "cell_type": "raw",
   "id": "c115b319",
   "metadata": {},
   "source": [
    "# for: cantidad interaciones conocida\n",
    "#while: cantidad no conocida"
   ]
  },
  {
   "cell_type": "code",
   "execution_count": 29,
   "id": "f0f04129",
   "metadata": {},
   "outputs": [
    {
     "name": "stdout",
     "output_type": "stream",
     "text": [
      "April 610\n"
     ]
    }
   ],
   "source": [
    "#break \n",
    "future_savings = {'January':130, 'February':160, 'March': 180, 'April':140, 'May':90}\n",
    "final_mounth = ''\n",
    "total = 0\n",
    "\n",
    "for mounth, money in future_savings.items():\n",
    "    total += money\n",
    "    if total >= 500:\n",
    "        final_mounth = mounth\n",
    "        break\n",
    "        \n",
    "print(final_mounth, total)"
   ]
  },
  {
   "cell_type": "code",
   "execution_count": 30,
   "id": "8feda36e",
   "metadata": {},
   "outputs": [
    {
     "name": "stdout",
     "output_type": "stream",
     "text": [
      " 520\n"
     ]
    }
   ],
   "source": [
    "# continue\n",
    "\n",
    "future_savings = {'January':130, 'February':160, 'March': 180, 'April':140, 'May':90}\n",
    "final_mounth = ''\n",
    "total = 0\n",
    "\n",
    "for mounth, money  in future_savings.items():\n",
    "    if mounth == 'March':\n",
    "        continue\n",
    "    total += money\n",
    "print(final_mounth, total)"
   ]
  },
  {
   "cell_type": "markdown",
   "id": "fe24eb4f",
   "metadata": {},
   "source": [
    "Zip"
   ]
  },
  {
   "cell_type": "code",
   "execution_count": 6,
   "id": "509cafcd",
   "metadata": {},
   "outputs": [
    {
     "name": "stdout",
     "output_type": "stream",
     "text": [
      "HTTP OK main.html\n",
      "HTTP NOT FOUND index.html\n",
      "[('HTTP OK', 'main.html'), ('HTTP NOT FOUND', 'index.html')]\n",
      "('HTTP OK', 'HTTP NOT FOUND') ('main.html', 'index.html')\n",
      "Brasil Brasilia\n",
      "Chile Santiago\n",
      "China Pekin\n"
     ]
    }
   ],
   "source": [
    "status_logs = ['HTTP OK', 'HTTP NOT FOUND']\n",
    "page_logs = ['main.html', 'index.html']\n",
    "\n",
    "for status, page in zip(status_logs, page_logs):\n",
    "    print(status, page)\n",
    "\n",
    "list_logs =list(zip(status_logs, page_logs))\n",
    "print(list_logs)\n",
    "tuple_status, tuple_page =zip(*list_logs)\n",
    "print(tuple_status, tuple_page)\n",
    "\n",
    "countries = ['Brasil', 'Chile', 'China']\n",
    "capital = ['Brasilia', 'Santiago', 'Pekin']\n",
    "\n",
    "for country, capital in zip(countries, capital):\n",
    "    print (country, capital)\n",
    "\n",
    "\n"
   ]
  },
  {
   "cell_type": "markdown",
   "id": "deced3ed",
   "metadata": {},
   "source": [
    "Enumerate"
   ]
  },
  {
   "cell_type": "code",
   "execution_count": 11,
   "id": "c6775c09",
   "metadata": {},
   "outputs": [
    {
     "name": "stdout",
     "output_type": "stream",
     "text": [
      "0 Mary\n",
      "1 Haul\n",
      "2 Carol\n",
      "3 Luis\n"
     ]
    }
   ],
   "source": [
    "students = ['Mary', 'Haul', 'Carol', 'Luis']\n",
    "for index, name in enumerate(students):\n",
    "    print(index, name)\n"
   ]
  },
  {
   "cell_type": "code",
   "execution_count": null,
   "id": "24fc8f23",
   "metadata": {},
   "outputs": [],
   "source": []
  }
 ],
 "metadata": {
  "kernelspec": {
   "display_name": "Python 3 (ipykernel)",
   "language": "python",
   "name": "python3"
  },
  "language_info": {
   "codemirror_mode": {
    "name": "ipython",
    "version": 3
   },
   "file_extension": ".py",
   "mimetype": "text/x-python",
   "name": "python",
   "nbconvert_exporter": "python",
   "pygments_lexer": "ipython3",
   "version": "3.10.9"
  }
 },
 "nbformat": 4,
 "nbformat_minor": 5
}
